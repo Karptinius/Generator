{
 "cells": [
  {
   "cell_type": "code",
   "execution_count": 24,
   "metadata": {},
   "outputs": [
    {
     "name": "stdout",
     "output_type": "stream",
     "text": [
      "高橋 裕美子\n",
      "中川 さゆり\n",
      "山本 くみ子\n",
      "Angelica Boccioni\n",
      "伊藤 直子\n",
      "Renata Lancisi\n",
      "Annalisa Serlupi\n",
      "Isa Merisi\n",
      "中村 聡太郎\n",
      "田中 亮介\n",
      "舗装賞賛する残るキャビネット緩む。パントレーナー月残る評議会デフォルト。\n",
      "呼ぶピックトーンバーゲン偏差ブレーキ。は意図尿コーナー意図。\n",
      "チーズキャビン緩むない意図。パイオニアキャビネット風景器官君は。厳しい仕上げ創傷数字ハンマー。\n",
      "目的マリン中央。パン数字バス彼女敵対的な。ジャーナル隠す人形コピー学生協力。\n"
     ]
    }
   ],
   "source": [
    "from faker import Faker\n",
    "\n",
    "fake = Faker(['it_IT', 'ja_JP'])\n",
    "for i in range(10): print(fake.name())\n",
    "fake.address()\n",
    "print(fake.text())"
   ]
  },
  {
   "cell_type": "code",
   "execution_count": 18,
   "metadata": {},
   "outputs": [
    {
     "name": "stdout",
     "output_type": "stream",
     "text": [
      "172.19.61.151\n"
     ]
    }
   ],
   "source": [
    "from faker.providers import internet\n",
    "\n",
    "fake = Faker()\n",
    "fake.add_provider(internet)\n",
    "\n",
    "print(fake.ipv4_private())"
   ]
  },
  {
   "cell_type": "code",
   "execution_count": 10,
   "metadata": {},
   "outputs": [],
   "source": [
    "from kafka import KafkaProducer\n",
    "\n",
    "producer = KafkaProducer(bootstrap_servers=\"localhost\")\n",
    "for i in range(10):\n",
    "    producer.send(\"test\", b'some_bites')"
   ]
  },
  {
   "cell_type": "code",
   "execution_count": 2,
   "metadata": {},
   "outputs": [
    {
     "ename": "KeyboardInterrupt",
     "evalue": "",
     "output_type": "error",
     "traceback": [
      "\u001b[0;31m---------------------------------------------------------------------------\u001b[0m",
      "\u001b[0;31mKeyboardInterrupt\u001b[0m                         Traceback (most recent call last)",
      "Cell \u001b[0;32mIn[2], line 5\u001b[0m\n\u001b[1;32m      1\u001b[0m \u001b[38;5;28;01mfrom\u001b[39;00m \u001b[38;5;21;01mkafka\u001b[39;00m \u001b[38;5;28;01mimport\u001b[39;00m KafkaConsumer\n\u001b[1;32m      3\u001b[0m consumer \u001b[38;5;241m=\u001b[39m KafkaConsumer(\u001b[38;5;124m\"\u001b[39m\u001b[38;5;124mtest_topic\u001b[39m\u001b[38;5;124m\"\u001b[39m)\n\u001b[0;32m----> 5\u001b[0m \u001b[38;5;28;01mfor\u001b[39;00m msg \u001b[38;5;129;01min\u001b[39;00m consumer:\n\u001b[1;32m      6\u001b[0m     \u001b[38;5;28mprint\u001b[39m(msg)\n",
      "File \u001b[0;32m~/Bureau/venv/PAF/lib/python3.10/site-packages/kafka/consumer/group.py:1193\u001b[0m, in \u001b[0;36mKafkaConsumer.__next__\u001b[0;34m(self)\u001b[0m\n\u001b[1;32m   1191\u001b[0m     \u001b[38;5;28;01mreturn\u001b[39;00m \u001b[38;5;28mself\u001b[39m\u001b[38;5;241m.\u001b[39mnext_v1()\n\u001b[1;32m   1192\u001b[0m \u001b[38;5;28;01melse\u001b[39;00m:\n\u001b[0;32m-> 1193\u001b[0m     \u001b[38;5;28;01mreturn\u001b[39;00m \u001b[38;5;28;43mself\u001b[39;49m\u001b[38;5;241;43m.\u001b[39;49m\u001b[43mnext_v2\u001b[49m\u001b[43m(\u001b[49m\u001b[43m)\u001b[49m\n",
      "File \u001b[0;32m~/Bureau/venv/PAF/lib/python3.10/site-packages/kafka/consumer/group.py:1201\u001b[0m, in \u001b[0;36mKafkaConsumer.next_v2\u001b[0;34m(self)\u001b[0m\n\u001b[1;32m   1199\u001b[0m     \u001b[38;5;28mself\u001b[39m\u001b[38;5;241m.\u001b[39m_iterator \u001b[38;5;241m=\u001b[39m \u001b[38;5;28mself\u001b[39m\u001b[38;5;241m.\u001b[39m_message_generator_v2()\n\u001b[1;32m   1200\u001b[0m \u001b[38;5;28;01mtry\u001b[39;00m:\n\u001b[0;32m-> 1201\u001b[0m     \u001b[38;5;28;01mreturn\u001b[39;00m \u001b[38;5;28;43mnext\u001b[39;49m\u001b[43m(\u001b[49m\u001b[38;5;28;43mself\u001b[39;49m\u001b[38;5;241;43m.\u001b[39;49m\u001b[43m_iterator\u001b[49m\u001b[43m)\u001b[49m\n\u001b[1;32m   1202\u001b[0m \u001b[38;5;28;01mexcept\u001b[39;00m \u001b[38;5;167;01mStopIteration\u001b[39;00m:\n\u001b[1;32m   1203\u001b[0m     \u001b[38;5;28mself\u001b[39m\u001b[38;5;241m.\u001b[39m_iterator \u001b[38;5;241m=\u001b[39m \u001b[38;5;28;01mNone\u001b[39;00m\n",
      "File \u001b[0;32m~/Bureau/venv/PAF/lib/python3.10/site-packages/kafka/consumer/group.py:1116\u001b[0m, in \u001b[0;36mKafkaConsumer._message_generator_v2\u001b[0;34m(self)\u001b[0m\n\u001b[1;32m   1114\u001b[0m \u001b[38;5;28;01mdef\u001b[39;00m \u001b[38;5;21m_message_generator_v2\u001b[39m(\u001b[38;5;28mself\u001b[39m):\n\u001b[1;32m   1115\u001b[0m     timeout_ms \u001b[38;5;241m=\u001b[39m \u001b[38;5;241m1000\u001b[39m \u001b[38;5;241m*\u001b[39m (\u001b[38;5;28mself\u001b[39m\u001b[38;5;241m.\u001b[39m_consumer_timeout \u001b[38;5;241m-\u001b[39m time\u001b[38;5;241m.\u001b[39mtime())\n\u001b[0;32m-> 1116\u001b[0m     record_map \u001b[38;5;241m=\u001b[39m \u001b[38;5;28;43mself\u001b[39;49m\u001b[38;5;241;43m.\u001b[39;49m\u001b[43mpoll\u001b[49m\u001b[43m(\u001b[49m\u001b[43mtimeout_ms\u001b[49m\u001b[38;5;241;43m=\u001b[39;49m\u001b[43mtimeout_ms\u001b[49m\u001b[43m,\u001b[49m\u001b[43m \u001b[49m\u001b[43mupdate_offsets\u001b[49m\u001b[38;5;241;43m=\u001b[39;49m\u001b[38;5;28;43;01mFalse\u001b[39;49;00m\u001b[43m)\u001b[49m\n\u001b[1;32m   1117\u001b[0m     \u001b[38;5;28;01mfor\u001b[39;00m tp, records \u001b[38;5;129;01min\u001b[39;00m six\u001b[38;5;241m.\u001b[39miteritems(record_map):\n\u001b[1;32m   1118\u001b[0m         \u001b[38;5;66;03m# Generators are stateful, and it is possible that the tp / records\u001b[39;00m\n\u001b[1;32m   1119\u001b[0m         \u001b[38;5;66;03m# here may become stale during iteration -- i.e., we seek to a\u001b[39;00m\n\u001b[1;32m   1120\u001b[0m         \u001b[38;5;66;03m# different offset, pause consumption, or lose assignment.\u001b[39;00m\n\u001b[1;32m   1121\u001b[0m         \u001b[38;5;28;01mfor\u001b[39;00m record \u001b[38;5;129;01min\u001b[39;00m records:\n\u001b[1;32m   1122\u001b[0m             \u001b[38;5;66;03m# is_fetchable(tp) should handle assignment changes and offset\u001b[39;00m\n\u001b[1;32m   1123\u001b[0m             \u001b[38;5;66;03m# resets; for all other changes (e.g., seeks) we'll rely on the\u001b[39;00m\n\u001b[1;32m   1124\u001b[0m             \u001b[38;5;66;03m# outer function destroying the existing iterator/generator\u001b[39;00m\n\u001b[1;32m   1125\u001b[0m             \u001b[38;5;66;03m# via self._iterator = None\u001b[39;00m\n",
      "File \u001b[0;32m~/Bureau/venv/PAF/lib/python3.10/site-packages/kafka/consumer/group.py:655\u001b[0m, in \u001b[0;36mKafkaConsumer.poll\u001b[0;34m(self, timeout_ms, max_records, update_offsets)\u001b[0m\n\u001b[1;32m    653\u001b[0m remaining \u001b[38;5;241m=\u001b[39m timeout_ms\n\u001b[1;32m    654\u001b[0m \u001b[38;5;28;01mwhile\u001b[39;00m \u001b[38;5;28;01mTrue\u001b[39;00m:\n\u001b[0;32m--> 655\u001b[0m     records \u001b[38;5;241m=\u001b[39m \u001b[38;5;28;43mself\u001b[39;49m\u001b[38;5;241;43m.\u001b[39;49m\u001b[43m_poll_once\u001b[49m\u001b[43m(\u001b[49m\u001b[43mremaining\u001b[49m\u001b[43m,\u001b[49m\u001b[43m \u001b[49m\u001b[43mmax_records\u001b[49m\u001b[43m,\u001b[49m\u001b[43m \u001b[49m\u001b[43mupdate_offsets\u001b[49m\u001b[38;5;241;43m=\u001b[39;49m\u001b[43mupdate_offsets\u001b[49m\u001b[43m)\u001b[49m\n\u001b[1;32m    656\u001b[0m     \u001b[38;5;28;01mif\u001b[39;00m records:\n\u001b[1;32m    657\u001b[0m         \u001b[38;5;28;01mreturn\u001b[39;00m records\n",
      "File \u001b[0;32m~/Bureau/venv/PAF/lib/python3.10/site-packages/kafka/consumer/group.py:680\u001b[0m, in \u001b[0;36mKafkaConsumer._poll_once\u001b[0;34m(self, timeout_ms, max_records, update_offsets)\u001b[0m\n\u001b[1;32m    677\u001b[0m \u001b[38;5;66;03m# Fetch positions if we have partitions we're subscribed to that we\u001b[39;00m\n\u001b[1;32m    678\u001b[0m \u001b[38;5;66;03m# don't know the offset for\u001b[39;00m\n\u001b[1;32m    679\u001b[0m \u001b[38;5;28;01mif\u001b[39;00m \u001b[38;5;129;01mnot\u001b[39;00m \u001b[38;5;28mself\u001b[39m\u001b[38;5;241m.\u001b[39m_subscription\u001b[38;5;241m.\u001b[39mhas_all_fetch_positions():\n\u001b[0;32m--> 680\u001b[0m     \u001b[38;5;28;43mself\u001b[39;49m\u001b[38;5;241;43m.\u001b[39;49m\u001b[43m_update_fetch_positions\u001b[49m\u001b[43m(\u001b[49m\u001b[38;5;28;43mself\u001b[39;49m\u001b[38;5;241;43m.\u001b[39;49m\u001b[43m_subscription\u001b[49m\u001b[38;5;241;43m.\u001b[39;49m\u001b[43mmissing_fetch_positions\u001b[49m\u001b[43m(\u001b[49m\u001b[43m)\u001b[49m\u001b[43m)\u001b[49m\n\u001b[1;32m    682\u001b[0m \u001b[38;5;66;03m# If data is available already, e.g. from a previous network client\u001b[39;00m\n\u001b[1;32m    683\u001b[0m \u001b[38;5;66;03m# poll() call to commit, then just return it immediately\u001b[39;00m\n\u001b[1;32m    684\u001b[0m records, partial \u001b[38;5;241m=\u001b[39m \u001b[38;5;28mself\u001b[39m\u001b[38;5;241m.\u001b[39m_fetcher\u001b[38;5;241m.\u001b[39mfetched_records(max_records, update_offsets\u001b[38;5;241m=\u001b[39mupdate_offsets)\n",
      "File \u001b[0;32m~/Bureau/venv/PAF/lib/python3.10/site-packages/kafka/consumer/group.py:1112\u001b[0m, in \u001b[0;36mKafkaConsumer._update_fetch_positions\u001b[0;34m(self, partitions)\u001b[0m\n\u001b[1;32m   1109\u001b[0m     \u001b[38;5;28mself\u001b[39m\u001b[38;5;241m.\u001b[39m_coordinator\u001b[38;5;241m.\u001b[39mrefresh_committed_offsets_if_needed()\n\u001b[1;32m   1111\u001b[0m \u001b[38;5;66;03m# Then, do any offset lookups in case some positions are not known\u001b[39;00m\n\u001b[0;32m-> 1112\u001b[0m \u001b[38;5;28;43mself\u001b[39;49m\u001b[38;5;241;43m.\u001b[39;49m\u001b[43m_fetcher\u001b[49m\u001b[38;5;241;43m.\u001b[39;49m\u001b[43mupdate_fetch_positions\u001b[49m\u001b[43m(\u001b[49m\u001b[43mpartitions\u001b[49m\u001b[43m)\u001b[49m\n",
      "File \u001b[0;32m~/Bureau/venv/PAF/lib/python3.10/site-packages/kafka/consumer/fetcher.py:186\u001b[0m, in \u001b[0;36mFetcher.update_fetch_positions\u001b[0;34m(self, partitions)\u001b[0m\n\u001b[1;32m    182\u001b[0m \u001b[38;5;28;01melif\u001b[39;00m \u001b[38;5;28mself\u001b[39m\u001b[38;5;241m.\u001b[39m_subscriptions\u001b[38;5;241m.\u001b[39massignment[tp]\u001b[38;5;241m.\u001b[39mcommitted \u001b[38;5;129;01mis\u001b[39;00m \u001b[38;5;28;01mNone\u001b[39;00m:\n\u001b[1;32m    183\u001b[0m     \u001b[38;5;66;03m# there's no committed position, so we need to reset with the\u001b[39;00m\n\u001b[1;32m    184\u001b[0m     \u001b[38;5;66;03m# default strategy\u001b[39;00m\n\u001b[1;32m    185\u001b[0m     \u001b[38;5;28mself\u001b[39m\u001b[38;5;241m.\u001b[39m_subscriptions\u001b[38;5;241m.\u001b[39mneed_offset_reset(tp)\n\u001b[0;32m--> 186\u001b[0m     \u001b[38;5;28;43mself\u001b[39;49m\u001b[38;5;241;43m.\u001b[39;49m\u001b[43m_reset_offset\u001b[49m\u001b[43m(\u001b[49m\u001b[43mtp\u001b[49m\u001b[43m)\u001b[49m\n\u001b[1;32m    187\u001b[0m \u001b[38;5;28;01melse\u001b[39;00m:\n\u001b[1;32m    188\u001b[0m     committed \u001b[38;5;241m=\u001b[39m \u001b[38;5;28mself\u001b[39m\u001b[38;5;241m.\u001b[39m_subscriptions\u001b[38;5;241m.\u001b[39massignment[tp]\u001b[38;5;241m.\u001b[39mcommitted\u001b[38;5;241m.\u001b[39moffset\n",
      "File \u001b[0;32m~/Bureau/venv/PAF/lib/python3.10/site-packages/kafka/consumer/fetcher.py:237\u001b[0m, in \u001b[0;36mFetcher._reset_offset\u001b[0;34m(self, partition)\u001b[0m\n\u001b[1;32m    233\u001b[0m     \u001b[38;5;28;01mraise\u001b[39;00m NoOffsetForPartitionError(partition)\n\u001b[1;32m    235\u001b[0m log\u001b[38;5;241m.\u001b[39mdebug(\u001b[38;5;124m\"\u001b[39m\u001b[38;5;124mResetting offset for partition \u001b[39m\u001b[38;5;132;01m%s\u001b[39;00m\u001b[38;5;124m to \u001b[39m\u001b[38;5;132;01m%s\u001b[39;00m\u001b[38;5;124m offset.\u001b[39m\u001b[38;5;124m\"\u001b[39m,\n\u001b[1;32m    236\u001b[0m           partition, strategy)\n\u001b[0;32m--> 237\u001b[0m offsets \u001b[38;5;241m=\u001b[39m \u001b[38;5;28;43mself\u001b[39;49m\u001b[38;5;241;43m.\u001b[39;49m\u001b[43m_retrieve_offsets\u001b[49m\u001b[43m(\u001b[49m\u001b[43m{\u001b[49m\u001b[43mpartition\u001b[49m\u001b[43m:\u001b[49m\u001b[43m \u001b[49m\u001b[43mtimestamp\u001b[49m\u001b[43m}\u001b[49m\u001b[43m)\u001b[49m\n\u001b[1;32m    239\u001b[0m \u001b[38;5;28;01mif\u001b[39;00m partition \u001b[38;5;129;01min\u001b[39;00m offsets:\n\u001b[1;32m    240\u001b[0m     offset \u001b[38;5;241m=\u001b[39m offsets[partition][\u001b[38;5;241m0\u001b[39m]\n",
      "File \u001b[0;32m~/Bureau/venv/PAF/lib/python3.10/site-packages/kafka/consumer/fetcher.py:291\u001b[0m, in \u001b[0;36mFetcher._retrieve_offsets\u001b[0;34m(self, timestamps, timeout_ms)\u001b[0m\n\u001b[1;32m    289\u001b[0m \u001b[38;5;28;01mif\u001b[39;00m future\u001b[38;5;241m.\u001b[39mexception\u001b[38;5;241m.\u001b[39minvalid_metadata:\n\u001b[1;32m    290\u001b[0m     refresh_future \u001b[38;5;241m=\u001b[39m \u001b[38;5;28mself\u001b[39m\u001b[38;5;241m.\u001b[39m_client\u001b[38;5;241m.\u001b[39mcluster\u001b[38;5;241m.\u001b[39mrequest_update()\n\u001b[0;32m--> 291\u001b[0m     \u001b[38;5;28;43mself\u001b[39;49m\u001b[38;5;241;43m.\u001b[39;49m\u001b[43m_client\u001b[49m\u001b[38;5;241;43m.\u001b[39;49m\u001b[43mpoll\u001b[49m\u001b[43m(\u001b[49m\u001b[43mfuture\u001b[49m\u001b[38;5;241;43m=\u001b[39;49m\u001b[43mrefresh_future\u001b[49m\u001b[43m,\u001b[49m\u001b[43m \u001b[49m\u001b[43mtimeout_ms\u001b[49m\u001b[38;5;241;43m=\u001b[39;49m\u001b[43mremaining_ms\u001b[49m\u001b[43m)\u001b[49m\n\u001b[1;32m    293\u001b[0m     \u001b[38;5;66;03m# Issue #1780\u001b[39;00m\n\u001b[1;32m    294\u001b[0m     \u001b[38;5;66;03m# Recheck partition existence after after a successful metadata refresh\u001b[39;00m\n\u001b[1;32m    295\u001b[0m     \u001b[38;5;28;01mif\u001b[39;00m refresh_future\u001b[38;5;241m.\u001b[39msucceeded() \u001b[38;5;129;01mand\u001b[39;00m \u001b[38;5;28misinstance\u001b[39m(future\u001b[38;5;241m.\u001b[39mexception, Errors\u001b[38;5;241m.\u001b[39mStaleMetadata):\n",
      "File \u001b[0;32m~/Bureau/venv/PAF/lib/python3.10/site-packages/kafka/client_async.py:602\u001b[0m, in \u001b[0;36mKafkaClient.poll\u001b[0;34m(self, timeout_ms, future)\u001b[0m\n\u001b[1;32m    599\u001b[0m             timeout \u001b[38;5;241m=\u001b[39m \u001b[38;5;28mmin\u001b[39m(timeout, \u001b[38;5;28mself\u001b[39m\u001b[38;5;241m.\u001b[39mconfig[\u001b[38;5;124m'\u001b[39m\u001b[38;5;124mretry_backoff_ms\u001b[39m\u001b[38;5;124m'\u001b[39m])\n\u001b[1;32m    600\u001b[0m         timeout \u001b[38;5;241m=\u001b[39m \u001b[38;5;28mmax\u001b[39m(\u001b[38;5;241m0\u001b[39m, timeout)  \u001b[38;5;66;03m# avoid negative timeouts\u001b[39;00m\n\u001b[0;32m--> 602\u001b[0m     \u001b[38;5;28;43mself\u001b[39;49m\u001b[38;5;241;43m.\u001b[39;49m\u001b[43m_poll\u001b[49m\u001b[43m(\u001b[49m\u001b[43mtimeout\u001b[49m\u001b[43m \u001b[49m\u001b[38;5;241;43m/\u001b[39;49m\u001b[43m \u001b[49m\u001b[38;5;241;43m1000\u001b[39;49m\u001b[43m)\u001b[49m\n\u001b[1;32m    604\u001b[0m \u001b[38;5;66;03m# called without the lock to avoid deadlock potential\u001b[39;00m\n\u001b[1;32m    605\u001b[0m \u001b[38;5;66;03m# if handlers need to acquire locks\u001b[39;00m\n\u001b[1;32m    606\u001b[0m responses\u001b[38;5;241m.\u001b[39mextend(\u001b[38;5;28mself\u001b[39m\u001b[38;5;241m.\u001b[39m_fire_pending_completed_requests())\n",
      "File \u001b[0;32m~/Bureau/venv/PAF/lib/python3.10/site-packages/kafka/client_async.py:634\u001b[0m, in \u001b[0;36mKafkaClient._poll\u001b[0;34m(self, timeout)\u001b[0m\n\u001b[1;32m    631\u001b[0m \u001b[38;5;28mself\u001b[39m\u001b[38;5;241m.\u001b[39m_register_send_sockets()\n\u001b[1;32m    633\u001b[0m start_select \u001b[38;5;241m=\u001b[39m time\u001b[38;5;241m.\u001b[39mtime()\n\u001b[0;32m--> 634\u001b[0m ready \u001b[38;5;241m=\u001b[39m \u001b[38;5;28;43mself\u001b[39;49m\u001b[38;5;241;43m.\u001b[39;49m\u001b[43m_selector\u001b[49m\u001b[38;5;241;43m.\u001b[39;49m\u001b[43mselect\u001b[49m\u001b[43m(\u001b[49m\u001b[43mtimeout\u001b[49m\u001b[43m)\u001b[49m\n\u001b[1;32m    635\u001b[0m end_select \u001b[38;5;241m=\u001b[39m time\u001b[38;5;241m.\u001b[39mtime()\n\u001b[1;32m    636\u001b[0m \u001b[38;5;28;01mif\u001b[39;00m \u001b[38;5;28mself\u001b[39m\u001b[38;5;241m.\u001b[39m_sensors:\n",
      "File \u001b[0;32m/usr/lib/python3.10/selectors.py:469\u001b[0m, in \u001b[0;36mEpollSelector.select\u001b[0;34m(self, timeout)\u001b[0m\n\u001b[1;32m    467\u001b[0m ready \u001b[38;5;241m=\u001b[39m []\n\u001b[1;32m    468\u001b[0m \u001b[38;5;28;01mtry\u001b[39;00m:\n\u001b[0;32m--> 469\u001b[0m     fd_event_list \u001b[38;5;241m=\u001b[39m \u001b[38;5;28;43mself\u001b[39;49m\u001b[38;5;241;43m.\u001b[39;49m\u001b[43m_selector\u001b[49m\u001b[38;5;241;43m.\u001b[39;49m\u001b[43mpoll\u001b[49m\u001b[43m(\u001b[49m\u001b[43mtimeout\u001b[49m\u001b[43m,\u001b[49m\u001b[43m \u001b[49m\u001b[43mmax_ev\u001b[49m\u001b[43m)\u001b[49m\n\u001b[1;32m    470\u001b[0m \u001b[38;5;28;01mexcept\u001b[39;00m \u001b[38;5;167;01mInterruptedError\u001b[39;00m:\n\u001b[1;32m    471\u001b[0m     \u001b[38;5;28;01mreturn\u001b[39;00m ready\n",
      "\u001b[0;31mKeyboardInterrupt\u001b[0m: "
     ]
    }
   ],
   "source": [
    "from kafka import KafkaConsumer\n",
    "\n",
    "consumer = KafkaConsumer(\"test_topic\")\n",
    "\n",
    "for msg in consumer:\n",
    "    print(msg)"
   ]
  },
  {
   "cell_type": "code",
   "execution_count": null,
   "metadata": {},
   "outputs": [
    {
     "name": "stdout",
     "output_type": "stream",
     "text": [
      "{'test_data': {'random_value': 2}, 'timestamp': '2024-06-21 10:59:55.259386', 'value_status': 'Low'}\n",
      "{'test_data': {'random_value': 6}, 'timestamp': '2024-06-21 11:00:28.268433', 'value_status': 'High'}\n",
      "{'test_data': {'random_value': 7}, 'timestamp': '2024-06-21 11:01:01.292482', 'value_status': 'High'}\n",
      "{'test_data': {'random_value': 1}, 'timestamp': '2024-06-21 11:01:34.324508', 'value_status': 'Low'}\n",
      "{'test_data': {'random_value': 7}, 'timestamp': '2024-06-21 11:02:07.340457', 'value_status': 'High'}\n",
      "{'test_data': {'random_value': 5}, 'timestamp': '2024-06-21 11:02:40.391609', 'value_status': 'Low'}\n",
      "{'test_data': {'random_value': 6}, 'timestamp': '2024-06-21 11:03:13.435568', 'value_status': 'High'}\n",
      "{'test_data': {'random_value': 4}, 'timestamp': '2024-06-21 11:03:46.456406', 'value_status': 'Low'}\n",
      "{'test_data': {'random_value': 1}, 'timestamp': '2024-06-21 11:04:19.484611', 'value_status': 'Low'}\n",
      "{'test_data': {'random_value': 7}, 'timestamp': '2024-06-21 11:04:52.504337', 'value_status': 'High'}\n",
      "{'test_data': {'random_value': 6}, 'timestamp': '2024-06-21 11:05:25.514532', 'value_status': 'High'}\n",
      "{'test_data': {'random_value': 6}, 'timestamp': '2024-06-21 11:05:58.616464', 'value_status': 'High'}\n",
      "{'test_data': {'random_value': 5}, 'timestamp': '2024-06-21 11:06:31.716449', 'value_status': 'Low'}\n",
      "{'test_data': {'random_value': 5}, 'timestamp': '2024-06-21 11:07:04.728749', 'value_status': 'Low'}\n",
      "{'test_data': {'random_value': 3}, 'timestamp': '2024-06-21 11:07:37.824173', 'value_status': 'Low'}\n",
      "{'test_data': {'random_value': 7}, 'timestamp': '2024-06-21 11:08:10.910802', 'value_status': 'High'}\n",
      "{'test_data': {'random_value': 5}, 'timestamp': '2024-06-21 11:08:43.924643', 'value_status': 'Low'}\n",
      "{'test_data': {'random_value': 2}, 'timestamp': '2024-06-21 11:09:17.016435', 'value_status': 'Low'}\n",
      "{'test_data': {'random_value': 2}, 'timestamp': '2024-06-21 11:09:50.052461', 'value_status': 'Low'}\n",
      "{'test_data': {'random_value': 1}, 'timestamp': '2024-06-21 11:10:23.056365', 'value_status': 'Low'}\n",
      "{'test_data': {'random_value': 1}, 'timestamp': '2024-06-21 11:10:56.117257', 'value_status': 'Low'}\n",
      "{'test_data': {'random_value': 4}, 'timestamp': '2024-06-21 11:11:29.152484', 'value_status': 'Low'}\n",
      "{'test_data': {'random_value': 6}, 'timestamp': '2024-06-21 11:12:02.172328', 'value_status': 'High'}\n",
      "{'test_data': {'random_value': 6}, 'timestamp': '2024-06-21 11:12:35.176427', 'value_status': 'High'}\n",
      "{'test_data': {'random_value': 1}, 'timestamp': '2024-06-21 11:13:08.188351', 'value_status': 'Low'}\n",
      "{'test_data': {'random_value': 2}, 'timestamp': '2024-06-21 11:13:41.199792', 'value_status': 'Low'}\n",
      "{'test_data': {'random_value': 2}, 'timestamp': '2024-06-21 11:14:14.212524', 'value_status': 'Low'}\n",
      "{'test_data': {'random_value': 1}, 'timestamp': '2024-06-21 11:14:47.227406', 'value_status': 'Low'}\n",
      "{'test_data': {'random_value': 6}, 'timestamp': '2024-06-21 11:15:20.309971', 'value_status': 'High'}\n"
     ]
    },
    {
     "ename": "KeyboardInterrupt",
     "evalue": "",
     "output_type": "error",
     "traceback": [
      "\u001b[0;31m---------------------------------------------------------------------------\u001b[0m",
      "\u001b[0;31mKeyboardInterrupt\u001b[0m                         Traceback (most recent call last)",
      "Cell \u001b[0;32mIn[7], line 29\u001b[0m\n\u001b[1;32m     27\u001b[0m \u001b[38;5;28mprint\u001b[39m(data)\n\u001b[1;32m     28\u001b[0m producer\u001b[38;5;241m.\u001b[39msend(topic, data)\n\u001b[0;32m---> 29\u001b[0m \u001b[43mproducer\u001b[49m\u001b[38;5;241;43m.\u001b[39;49m\u001b[43mflush\u001b[49m\u001b[43m(\u001b[49m\u001b[43m)\u001b[49m\n\u001b[1;32m     30\u001b[0m sleep(\u001b[38;5;241m3\u001b[39m)\n",
      "File \u001b[0;32m~/Bureau/venv/PAF/lib/python3.10/site-packages/kafka/producer/kafka.py:649\u001b[0m, in \u001b[0;36mKafkaProducer.flush\u001b[0;34m(self, timeout)\u001b[0m\n\u001b[1;32m    647\u001b[0m \u001b[38;5;28mself\u001b[39m\u001b[38;5;241m.\u001b[39m_accumulator\u001b[38;5;241m.\u001b[39mbegin_flush()\n\u001b[1;32m    648\u001b[0m \u001b[38;5;28mself\u001b[39m\u001b[38;5;241m.\u001b[39m_sender\u001b[38;5;241m.\u001b[39mwakeup()\n\u001b[0;32m--> 649\u001b[0m \u001b[38;5;28;43mself\u001b[39;49m\u001b[38;5;241;43m.\u001b[39;49m\u001b[43m_accumulator\u001b[49m\u001b[38;5;241;43m.\u001b[39;49m\u001b[43mawait_flush_completion\u001b[49m\u001b[43m(\u001b[49m\u001b[43mtimeout\u001b[49m\u001b[38;5;241;43m=\u001b[39;49m\u001b[43mtimeout\u001b[49m\u001b[43m)\u001b[49m\n",
      "File \u001b[0;32m~/Bureau/venv/PAF/lib/python3.10/site-packages/kafka/producer/record_accumulator.py:528\u001b[0m, in \u001b[0;36mRecordAccumulator.await_flush_completion\u001b[0;34m(self, timeout)\u001b[0m\n\u001b[1;32m    525\u001b[0m \u001b[38;5;28;01mfor\u001b[39;00m batch \u001b[38;5;129;01min\u001b[39;00m \u001b[38;5;28mself\u001b[39m\u001b[38;5;241m.\u001b[39m_incomplete\u001b[38;5;241m.\u001b[39mall():\n\u001b[1;32m    526\u001b[0m     log\u001b[38;5;241m.\u001b[39mdebug(\u001b[38;5;124m'\u001b[39m\u001b[38;5;124mWaiting on produce to \u001b[39m\u001b[38;5;132;01m%s\u001b[39;00m\u001b[38;5;124m'\u001b[39m,\n\u001b[1;32m    527\u001b[0m               batch\u001b[38;5;241m.\u001b[39mproduce_future\u001b[38;5;241m.\u001b[39mtopic_partition)\n\u001b[0;32m--> 528\u001b[0m     \u001b[38;5;28;01mif\u001b[39;00m \u001b[38;5;129;01mnot\u001b[39;00m \u001b[43mbatch\u001b[49m\u001b[38;5;241;43m.\u001b[39;49m\u001b[43mproduce_future\u001b[49m\u001b[38;5;241;43m.\u001b[39;49m\u001b[43mwait\u001b[49m\u001b[43m(\u001b[49m\u001b[43mtimeout\u001b[49m\u001b[38;5;241;43m=\u001b[39;49m\u001b[43mtimeout\u001b[49m\u001b[43m)\u001b[49m:\n\u001b[1;32m    529\u001b[0m         \u001b[38;5;28;01mraise\u001b[39;00m Errors\u001b[38;5;241m.\u001b[39mKafkaTimeoutError(\u001b[38;5;124m'\u001b[39m\u001b[38;5;124mTimeout waiting for future\u001b[39m\u001b[38;5;124m'\u001b[39m)\n\u001b[1;32m    530\u001b[0m     \u001b[38;5;28;01mif\u001b[39;00m \u001b[38;5;129;01mnot\u001b[39;00m batch\u001b[38;5;241m.\u001b[39mproduce_future\u001b[38;5;241m.\u001b[39mis_done:\n",
      "File \u001b[0;32m~/Bureau/venv/PAF/lib/python3.10/site-packages/kafka/producer/future.py:28\u001b[0m, in \u001b[0;36mFutureProduceResult.wait\u001b[0;34m(self, timeout)\u001b[0m\n\u001b[1;32m     26\u001b[0m \u001b[38;5;28;01mdef\u001b[39;00m \u001b[38;5;21mwait\u001b[39m(\u001b[38;5;28mself\u001b[39m, timeout\u001b[38;5;241m=\u001b[39m\u001b[38;5;28;01mNone\u001b[39;00m):\n\u001b[1;32m     27\u001b[0m     \u001b[38;5;66;03m# wait() on python2.6 returns None instead of the flag value\u001b[39;00m\n\u001b[0;32m---> 28\u001b[0m     \u001b[38;5;28;01mreturn\u001b[39;00m \u001b[38;5;28;43mself\u001b[39;49m\u001b[38;5;241;43m.\u001b[39;49m\u001b[43m_latch\u001b[49m\u001b[38;5;241;43m.\u001b[39;49m\u001b[43mwait\u001b[49m\u001b[43m(\u001b[49m\u001b[43mtimeout\u001b[49m\u001b[43m)\u001b[49m \u001b[38;5;129;01mor\u001b[39;00m \u001b[38;5;28mself\u001b[39m\u001b[38;5;241m.\u001b[39m_latch\u001b[38;5;241m.\u001b[39mis_set()\n",
      "File \u001b[0;32m/usr/lib/python3.10/threading.py:607\u001b[0m, in \u001b[0;36mEvent.wait\u001b[0;34m(self, timeout)\u001b[0m\n\u001b[1;32m    605\u001b[0m signaled \u001b[38;5;241m=\u001b[39m \u001b[38;5;28mself\u001b[39m\u001b[38;5;241m.\u001b[39m_flag\n\u001b[1;32m    606\u001b[0m \u001b[38;5;28;01mif\u001b[39;00m \u001b[38;5;129;01mnot\u001b[39;00m signaled:\n\u001b[0;32m--> 607\u001b[0m     signaled \u001b[38;5;241m=\u001b[39m \u001b[38;5;28;43mself\u001b[39;49m\u001b[38;5;241;43m.\u001b[39;49m\u001b[43m_cond\u001b[49m\u001b[38;5;241;43m.\u001b[39;49m\u001b[43mwait\u001b[49m\u001b[43m(\u001b[49m\u001b[43mtimeout\u001b[49m\u001b[43m)\u001b[49m\n\u001b[1;32m    608\u001b[0m \u001b[38;5;28;01mreturn\u001b[39;00m signaled\n",
      "File \u001b[0;32m/usr/lib/python3.10/threading.py:320\u001b[0m, in \u001b[0;36mCondition.wait\u001b[0;34m(self, timeout)\u001b[0m\n\u001b[1;32m    318\u001b[0m \u001b[38;5;28;01mtry\u001b[39;00m:    \u001b[38;5;66;03m# restore state no matter what (e.g., KeyboardInterrupt)\u001b[39;00m\n\u001b[1;32m    319\u001b[0m     \u001b[38;5;28;01mif\u001b[39;00m timeout \u001b[38;5;129;01mis\u001b[39;00m \u001b[38;5;28;01mNone\u001b[39;00m:\n\u001b[0;32m--> 320\u001b[0m         \u001b[43mwaiter\u001b[49m\u001b[38;5;241;43m.\u001b[39;49m\u001b[43macquire\u001b[49m\u001b[43m(\u001b[49m\u001b[43m)\u001b[49m\n\u001b[1;32m    321\u001b[0m         gotit \u001b[38;5;241m=\u001b[39m \u001b[38;5;28;01mTrue\u001b[39;00m\n\u001b[1;32m    322\u001b[0m     \u001b[38;5;28;01melse\u001b[39;00m:\n",
      "\u001b[0;31mKeyboardInterrupt\u001b[0m: "
     ]
    }
   ],
   "source": [
    "import json\n",
    "from datetime import datetime\n",
    "from time import sleep\n",
    "from random import choice\n",
    "from kafka import KafkaProducer\n",
    "\n",
    "kafka_server = [\"localhost\"]\n",
    "\n",
    "topic = \"test_topic\"\n",
    "\n",
    "producer = KafkaProducer(\n",
    "    bootstrap_servers=kafka_server,\n",
    "    value_serializer=lambda v: json.dumps(v).encode(\"utf-8\"),\n",
    ")\n",
    "\n",
    "random_values = [1, 2, 3, 4, 5, 6, 7]\n",
    "\n",
    "while True:\n",
    "    random_value = choice(random_values)\n",
    "    data = {\n",
    "        \"test_data\": {\n",
    "            \"random_value\": random_value\n",
    "        },\n",
    "        \"timestamp\": str(datetime.now()),\n",
    "        \"value_status\": \"High\" if random_value > 5 else \"Low\"\n",
    "    }\n",
    "    print(data)\n",
    "    producer.send(topic, data)\n",
    "    producer.flush()\n",
    "    sleep(3)"
   ]
  },
  {
   "cell_type": "code",
   "execution_count": 9,
   "metadata": {},
   "outputs": [],
   "source": [
    "import json\n",
    "from kafka import KafkaConsumer\n",
    "\n",
    "kafka_server = [\"localhost\"]\n",
    "\n",
    "topic = \"test_topic\"\n",
    "\n",
    "consumer = KafkaConsumer(\n",
    "    bootstrap_servers=kafka_server,\n",
    "    value_deserializer=json.loads,\n",
    "    auto_offset_reset=\"latest\",\n",
    ")\n",
    "\n",
    "consumer.subscribe(topic)\n",
    "\n",
    "while True:\n",
    "    data = next(consumer)\n",
    "    print(data)\n",
    "    print(data.value)"
   ]
  },
  {
   "cell_type": "code",
   "execution_count": null,
   "metadata": {},
   "outputs": [],
   "source": [
    "from pyspark.sql import SparkSession\n",
    "from pyspark.sql.types import StructType, StructField, StringType\n",
    "import pyspark.sql.functions as sf\n",
    "\n",
    "spark = SparkSession.builder.appName(\"PySpark Example\").getOrCreate()\n",
    "df = spark.createDataFrame([(14, \"Tom\"), (23, \"Alice\"), (16, \"Bob\")], [\"age\", \"name\"])"
   ]
  }
 ],
 "metadata": {
  "kernelspec": {
   "display_name": "PAF",
   "language": "python",
   "name": "python3"
  },
  "language_info": {
   "codemirror_mode": {
    "name": "ipython",
    "version": 3
   },
   "file_extension": ".py",
   "mimetype": "text/x-python",
   "name": "python",
   "nbconvert_exporter": "python",
   "pygments_lexer": "ipython3",
   "version": "3.10.12"
  }
 },
 "nbformat": 4,
 "nbformat_minor": 2
}
